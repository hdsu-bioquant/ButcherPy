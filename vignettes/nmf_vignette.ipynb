{
 "cells": [
  {
   "cell_type": "markdown",
   "metadata": {},
   "source": [
    "# Use ButcherPy's NMF algorithm"
   ]
  },
  {
   "cell_type": "markdown",
   "metadata": {},
   "source": [
    "This vignette shows the basic workflow to use NMF from the ButcherPy package. The package is compatible to various datatypes, which are all presented here. We specifically show an example with the RData files on bipolar disorder data provided in the GitHub repository of ButcherPy."
   ]
  },
  {
   "cell_type": "code",
   "execution_count": null,
   "metadata": {},
   "outputs": [],
   "source": [
    "import numpy as np\n",
    "import anndata as ad\n",
    "import scanpy as sc\n",
    "import pandas as pd\n",
    "import src.butcherPy.multiplerun_NMF_class as multinmf\n",
    "import src.butcherPy.nmf_run as nmf\n",
    "from src.modules.utils import rds_to_ann"
   ]
  },
  {
   "cell_type": "markdown",
   "metadata": {},
   "source": [
    "## Load Data"
   ]
  },
  {
   "cell_type": "markdown",
   "metadata": {},
   "source": [
    "You can use a simple numpy array, but note that you cannot provide annotations in this way. Default annotations in the form of \"Gene_x\" are used for the rows and \"Sample_x\" are used for the columns."
   ]
  },
  {
   "cell_type": "code",
   "execution_count": null,
   "metadata": {},
   "outputs": [],
   "source": [
    "np.random.seed(123)\n",
    "# matrix with 1000 rows corresponding to 1000 genes and 6 columns corresponding to samples\n",
    "test_mat = np.random.rand(1000,6)"
   ]
  },
  {
   "cell_type": "markdown",
   "metadata": {},
   "source": [
    "You can use a pandas Dataframe. Make sure that the genes are stored in the rows and samples in the columns. If it is the other way around use the transpose function."
   ]
  },
  {
   "cell_type": "code",
   "execution_count": null,
   "metadata": {},
   "outputs": [],
   "source": [
    "df = pd.DataFrame(test_mat)\n",
    "# df = df.tranpose()\n",
    "df.index = [\"Gene_\" + str(i+1) for i in range(df.shape[0])]\n",
    "df.columns = [\"Sample_\" + str(i+1) for i in range(df.shape[1])]"
   ]
  },
  {
   "cell_type": "markdown",
   "metadata": {},
   "source": [
    "You can use an AnnData object with gene annotations in the \"var_names\" variable and sample annotations in the \"obs_names\" variable."
   ]
  },
  {
   "cell_type": "code",
   "execution_count": null,
   "metadata": {},
   "outputs": [],
   "source": [
    "path_to_adata = \"your_path.h5ad\"\n",
    "adata = sc.read_h5ad(path_to_adata)"
   ]
  },
  {
   "cell_type": "markdown",
   "metadata": {},
   "source": [
    "You can use RData that will be transformed to AnnData for you. Here the package provides a few options:\n",
    "1. Only provide a path to RData file that stores the matrix. In this case the default annoations are created the same way, as if using a numpy array. Be aware, that the matrix should have the form (samples, genes), meaning that the genes are stored in the columns. Thus, make sure to provide a boolean value for gene_columns; True if the genes are stored in the columns and False if not.\n",
    "2. Provide paths to RData files containing the matrix, the gene and sample annotations. You have to provide the gene_columns variable here as well. But if you are unsure about the stored format, this option provides you with warnings, in case the matrix and annotation dimensions do not coincide.\n",
    "3. Provide path to RData file containing the matrix, and self extracted annotations. This is the best option, if the function fails with the provided data files to the gene and sample annotations. If you are unsure how to extract your annotations from RData files, you can have a look in the next cell of code providing a small tutorial how to use the rds2py package to get your annotations"
   ]
  },
  {
   "cell_type": "code",
   "execution_count": null,
   "metadata": {},
   "outputs": [],
   "source": [
    "# 1. only path to RData file\n",
    "path_to_rdata = \"data/GSE_bpd/GSE53987_2.rds\"\n",
    "format = False # change this parameter according to the description provided above\n",
    "adata = rds_to_ann(path_to_rdsmatrix=path_to_rdata, gene_columns=format)\n",
    "\n",
    "# 2. path to RData files for matrix, gene and sample annotations\n",
    "path_to_rdata = \"data/GSE_bpd/GSE53987_2.rds\"\n",
    "path_to_genes = \"data/GSE_bpd/GSE53987_2_annots.rds\"\n",
    "path_to_samples = \"data/GSE_bpd/GSE53987_2_metadata.rds\"\n",
    "adata = rds_to_ann(path_to_rdata, path_to_rdsannot=path_to_genes, path_to_rdsmeta=path_to_samples, gene_columns=format)\n",
    "\n",
    "# 3. path to RData file containing matrix and self extracted annotations\n",
    "path_to_rdata = \"data/GSE_bpd/GSE53987_2.rds\"\n",
    "gene_annot = [] # list of gene annotations, need to have length compatible with provided matrix, or default annotation is used\n",
    "sample_annot = [] # list of sample annotations, need to have length compatible with provided matrix, or default annotation is used\n",
    "adata = rds_to_ann(path_to_rdata, gene_annot=gene_annot, sample_annot=sample_annot, gene_columns=format)"
   ]
  },
  {
   "cell_type": "markdown",
   "metadata": {},
   "source": [
    "### RData annotation extraction Tutorial with rds2py"
   ]
  },
  {
   "cell_type": "markdown",
   "metadata": {},
   "source": [
    "Tutorial on how to extract annotations from RData files with rds2py. This is the way how it is done in the rsd_to_ann function. Thus, if your data have the same format, the function should work fine with just providing the paths to the RData files. If your data is structured differently, you just have to change the \"index\" variable in the following code and can use self extracted annotations."
   ]
  },
  {
   "cell_type": "code",
   "execution_count": null,
   "metadata": {},
   "outputs": [],
   "source": [
    "import rds2py\n",
    "\n",
    "path_to_genes = \"data/GSE_bpd/GSE53987_2_annots.rds\"\n",
    "path_to_samples = \"data/GSE_bpd/GSE53987_2_metadata.rds\"\n",
    "\n",
    "r_obj_gene = rds2py.read_rds(path_to_genes)\n",
    "# The list printed in the following line shows the names of the dictionaries saved in r_obj[\"data\"]\n",
    "print(r_obj_gene[\"attributes\"][\"names\"][\"data\"])\n",
    "# This should be the index (starting from 0) to the name that stores the information you want to use as annotation\n",
    "index = 1 # we want to keep \"Gene symbol\" as gene annotations\n",
    "gene_annot = r_obj_gene[\"data\"][index][\"data\"]\n",
    "\n",
    "r_obj_sample = rds2py.read_rds(path_to_samples)\n",
    "# The list printed in the following line shows the names of the dictionaries saved in r_obj[\"data\"]\n",
    "print(r_obj_sample[\"attributes\"][\"names\"][\"data\"])\n",
    "index = 0 # we want to keep \"GROUP\" as sample annotations\n",
    "# This should be the index (starting from 0) to the name that stores the information you want to use as annotation\n",
    "sample_annot = r_obj_sample[\"data\"][index][\"data\"]\n",
    "\n",
    "adata = rds_to_ann(path_to_rdata, gene_annot=gene_annot, sample_annot=sample_annot, gene_columns=format)"
   ]
  },
  {
   "cell_type": "markdown",
   "metadata": {},
   "source": [
    "## Define the remaining parameters for the NMF run"
   ]
  },
  {
   "cell_type": "code",
   "execution_count": null,
   "metadata": {},
   "outputs": [],
   "source": [
    "test_ranks = [3, 4]\n",
    "tn_initializations = 10\n",
    "titerations = 100\n",
    "tseed = 123\n",
    "tstop_threshold = 40\n",
    "tnthreads = 1"
   ]
  },
  {
   "cell_type": "markdown",
   "metadata": {},
   "source": [
    "## Perform the NMF run"
   ]
  },
  {
   "cell_type": "code",
   "execution_count": null,
   "metadata": {},
   "outputs": [],
   "source": [
    "nmf_multiple = nmf.multiple_rank_NMF(adata, # or test_mat or df\n",
    "                                     test_ranks, \n",
    "                                     tn_initializations, \n",
    "                                     titerations, \n",
    "                                     tseed, \n",
    "                                     tstop_threshold, \n",
    "                                     tnthreads)"
   ]
  },
  {
   "cell_type": "markdown",
   "metadata": {},
   "source": [
    "## Working with the NMF results"
   ]
  },
  {
   "cell_type": "markdown",
   "metadata": {},
   "source": [
    "There are several functions in the multiplerun_NMF_class to work with the results of the NMF run, in the following some useful examples are presented."
   ]
  },
  {
   "cell_type": "code",
   "execution_count": null,
   "metadata": {},
   "outputs": [],
   "source": [
    "# First, metrics for the different runs are calculated\n",
    "nmf_multiple.compute_OptKStats_NMF()\n",
    "# Next, the metrics are compared in a way to find the best suited factorisation rank under the computed ones\n",
    "nmf_multiple.compute_OptK()"
   ]
  },
  {
   "cell_type": "code",
   "execution_count": null,
   "metadata": {},
   "outputs": [],
   "source": [
    "# Check which feature contributes to which signature\n",
    "nmf_multiple.WcomputeFeatureStats()\n",
    "# Create a heatmap showing the jaccard distance between the sets of contributing genes of all signatures\n",
    "your_path = \"SignatureComparison.png\"\n",
    "nmf_multiple.signature_heatmap(your_path)"
   ]
  }
 ],
 "metadata": {
  "language_info": {
   "name": "python"
  }
 },
 "nbformat": 4,
 "nbformat_minor": 2
}
