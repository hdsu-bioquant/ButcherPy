{
 "cells": [
  {
   "cell_type": "markdown",
   "metadata": {},
   "source": [
    "This vignette shows the basic use of the NMF algorithm in the butcherPy package. Here only random numpy arrays are used, but any gene expression data in the same form can be dealt with as well."
   ]
  },
  {
   "cell_type": "code",
   "execution_count": 1,
   "metadata": {},
   "outputs": [],
   "source": [
    "import numpy as np\n",
    "import src.butcherPy.multiplerun_NMF_class as multinmf\n",
    "import src.butcherPy.nmf_run as nmf"
   ]
  },
  {
   "cell_type": "code",
   "execution_count": 2,
   "metadata": {},
   "outputs": [],
   "source": [
    "np.random.seed(123)\n",
    "# matrix with 1000 rows corresponding to 1000 genes and 6 columns corresponding to samples\n",
    "test_mat = np.random.rand(1000,6)\n",
    "# want to get W matrices with 3 and 4 columns corresponding to expression patterns/signatures\n",
    "test_ranks = [3, 4]\n",
    "tn_initializations = 10\n",
    "titerations = 100\n",
    "tseed = 123\n",
    "tstop_threshold = 40\n",
    "tnthreads = 1"
   ]
  },
  {
   "cell_type": "code",
   "execution_count": 3,
   "metadata": {},
   "outputs": [
    {
     "name": "stdout",
     "output_type": "stream",
     "text": [
      "Factorization rank:  3\n",
      "NMF converges after 48, 89, 40, 41, 46, 80, 53, 62, 44, 40 iterations for the different initializations.\n",
      "Factorization rank:  4\n",
      "NMF converges after 100, 46, 56, 40, 100, 59, 62, 49, 45, 40 iterations for the different initializations.\n"
     ]
    }
   ],
   "source": [
    "nmf_multiple = nmf.multiple_rank_NMF(test_mat, \n",
    "                                     test_ranks, \n",
    "                                     tn_initializations, \n",
    "                                     titerations, \n",
    "                                     tseed, \n",
    "                                     tstop_threshold, \n",
    "                                     tnthreads)\n"
   ]
  },
  {
   "cell_type": "markdown",
   "metadata": {},
   "source": [
    "There are several functions in the multiplerun_NMF_class to work with the results of the NMF run, in the following some useful examples are presented."
   ]
  },
  {
   "cell_type": "code",
   "execution_count": null,
   "metadata": {
    "scrolled": true
   },
   "outputs": [],
   "source": [
    "# first, metrics for the different runs are calculated\n",
    "nmf_multiple.compute_OptKStats_NMF()\n",
    "# next, the metrics are compared in a way to find the best suited factorisation rank under the computed ones\n",
    "nmf_multiple.compute_OptK()"
   ]
  },
  {
   "cell_type": "code",
   "execution_count": null,
   "metadata": {},
   "outputs": [],
   "source": [
    "# check which feature contributes to which signature\n",
    "nmf_multiple.WcomputeFeatureStats()\n",
    "# create a heatmap showing the jaccard distance between the sets of contributing genes of all signatures\n",
    "your_path = \"SignatureComparison.png\"\n",
    "nmf_multiple.heatmap(your_path)"
   ]
  }
 ],
 "metadata": {
  "kernelspec": {
   "display_name": "Python 3 (ipykernel)",
   "language": "python",
   "name": "python3"
  },
  "language_info": {
   "codemirror_mode": {
    "name": "ipython",
    "version": 3
   },
   "file_extension": ".py",
   "mimetype": "text/x-python",
   "name": "python",
   "nbconvert_exporter": "python",
   "pygments_lexer": "ipython3",
   "version": "3.11.4"
  }
 },
 "nbformat": 4,
 "nbformat_minor": 2
}
