{
 "cells": [
  {
   "cell_type": "markdown",
   "id": "80e0ff6a",
   "metadata": {},
   "source": [
    "This vignette is work in progress, cannot ensure smooth run."
   ]
  },
  {
   "cell_type": "markdown",
   "id": "d13dc5fe",
   "metadata": {},
   "source": [
    "This vignette shows the basic use of the NMF algorithm in the butcherPy package. Here the use of a gene expression matrix stored in a RData format is demonstrated."
   ]
  },
  {
   "cell_type": "code",
   "execution_count": null,
   "id": "7c6087a8",
   "metadata": {},
   "outputs": [],
   "source": [
    "import numpy as np\n",
    "import src.butcherPy.multiplerun_NMF_class as multinmf\n",
    "import src.butcherPy.nmf_run as nmf\n",
    "from src.modules.utils import setup_rds\n",
    "\n",
    "your_path = \"data.rds\"\n",
    "gene_matrix = setup_rds(path_to_rds)"
   ]
  },
  {
   "cell_type": "code",
   "execution_count": null,
   "id": "a4290a54",
   "metadata": {},
   "outputs": [],
   "source": [
    "test_ranks = [3, 4]\n",
    "tn_initializations = 10\n",
    "titerations = 200\n",
    "tseed = 123\n",
    "tstop_threshold = 40\n",
    "tnthreads = 1\n",
    "\n",
    "bp_nmf = nmf.multiple_rank_NMF(gene_matrix, \n",
    "                                test_ranks, \n",
    "                                tn_initializations, \n",
    "                                titerations, \n",
    "                                tseed, \n",
    "                                tstop_threshold, \n",
    "                                tnthreads)"
   ]
  },
  {
   "cell_type": "markdown",
   "id": "2a1e44f9",
   "metadata": {},
   "source": [
    "There are several functions in the multiplerun_NMF_class to work with the results of the NMF run, in the following some useful examples are presented."
   ]
  },
  {
   "cell_type": "code",
   "execution_count": null,
   "id": "13e6642e",
   "metadata": {},
   "outputs": [],
   "source": [
    "# first, metrics for the different runs are calculated\n",
    "bp_nmf.compute_OptKStats_NMF()\n",
    "# next, the metrics are compared in a way to find the best suited factorisation rank under the computed ones\n",
    "bp_nmf.compute_OptK()"
   ]
  },
  {
   "cell_type": "code",
   "execution_count": null,
   "id": "97b1b1ab",
   "metadata": {},
   "outputs": [],
   "source": [
    "# check which feature contributes to which signature\n",
    "bp_nmf.WcomputeFeatureStats()\n",
    "# create a heatmap showing the jaccard distance between the sets of contributing genes of all signatures\n",
    "your_path = \"SignatureComparison.png\"\n",
    "bp_nmf.heatmap(your_path)"
   ]
  }
 ],
 "metadata": {
  "kernelspec": {
   "display_name": "Python 3 (ipykernel)",
   "language": "python",
   "name": "python3"
  },
  "language_info": {
   "codemirror_mode": {
    "name": "ipython",
    "version": 3
   },
   "file_extension": ".py",
   "mimetype": "text/x-python",
   "name": "python",
   "nbconvert_exporter": "python",
   "pygments_lexer": "ipython3",
   "version": "3.11.4"
  }
 },
 "nbformat": 4,
 "nbformat_minor": 5
}
